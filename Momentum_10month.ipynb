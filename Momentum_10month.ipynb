{
 "cells": [
  {
   "cell_type": "markdown",
   "metadata": {},
   "source": [
    "# Data "
   ]
  },
  {
   "cell_type": "code",
   "execution_count": 1,
   "metadata": {},
   "outputs": [],
   "source": [
    "import numpy as np\n",
    "import matplotlib.pyplot as plt\n",
    "import pandas as pd\n",
    "import window_make\n",
    "import Gradient\n",
    "from sklearn.preprocessing import PolynomialFeatures\n",
    "from sklearn.preprocessing import StandardScaler\n",
    "from sklearn.model_selection import train_test_split\n",
    "from sklearn.preprocessing import MinMaxScaler"
   ]
  },
  {
   "cell_type": "code",
   "execution_count": 2,
   "metadata": {
    "scrolled": true
   },
   "outputs": [
    {
     "data": {
      "text/html": [
       "<div>\n",
       "<style scoped>\n",
       "    .dataframe tbody tr th:only-of-type {\n",
       "        vertical-align: middle;\n",
       "    }\n",
       "\n",
       "    .dataframe tbody tr th {\n",
       "        vertical-align: top;\n",
       "    }\n",
       "\n",
       "    .dataframe thead th {\n",
       "        text-align: right;\n",
       "    }\n",
       "</style>\n",
       "<table border=\"1\" class=\"dataframe\">\n",
       "  <thead>\n",
       "    <tr style=\"text-align: right;\">\n",
       "      <th></th>\n",
       "      <th>Year</th>\n",
       "      <th>Month</th>\n",
       "      <th>Decimal Date</th>\n",
       "      <th>Carbon Dioxide (ppm)</th>\n",
       "      <th>Seasonally Adjusted CO2 (ppm)</th>\n",
       "      <th>Carbon Dioxide Fit (ppm)</th>\n",
       "      <th>Seasonally Adjusted CO2 Fit (ppm)</th>\n",
       "    </tr>\n",
       "  </thead>\n",
       "  <tbody>\n",
       "    <tr>\n",
       "      <th>0</th>\n",
       "      <td>1958</td>\n",
       "      <td>1</td>\n",
       "      <td>1958.0411</td>\n",
       "      <td>NaN</td>\n",
       "      <td>NaN</td>\n",
       "      <td>NaN</td>\n",
       "      <td>NaN</td>\n",
       "    </tr>\n",
       "    <tr>\n",
       "      <th>1</th>\n",
       "      <td>1958</td>\n",
       "      <td>2</td>\n",
       "      <td>1958.1260</td>\n",
       "      <td>NaN</td>\n",
       "      <td>NaN</td>\n",
       "      <td>NaN</td>\n",
       "      <td>NaN</td>\n",
       "    </tr>\n",
       "    <tr>\n",
       "      <th>2</th>\n",
       "      <td>1958</td>\n",
       "      <td>3</td>\n",
       "      <td>1958.2027</td>\n",
       "      <td>315.69</td>\n",
       "      <td>314.42</td>\n",
       "      <td>316.18</td>\n",
       "      <td>314.89</td>\n",
       "    </tr>\n",
       "    <tr>\n",
       "      <th>3</th>\n",
       "      <td>1958</td>\n",
       "      <td>4</td>\n",
       "      <td>1958.2877</td>\n",
       "      <td>317.45</td>\n",
       "      <td>315.15</td>\n",
       "      <td>317.30</td>\n",
       "      <td>314.98</td>\n",
       "    </tr>\n",
       "    <tr>\n",
       "      <th>4</th>\n",
       "      <td>1958</td>\n",
       "      <td>5</td>\n",
       "      <td>1958.3699</td>\n",
       "      <td>317.50</td>\n",
       "      <td>314.73</td>\n",
       "      <td>317.83</td>\n",
       "      <td>315.06</td>\n",
       "    </tr>\n",
       "  </tbody>\n",
       "</table>\n",
       "</div>"
      ],
      "text/plain": [
       "   Year  Month  Decimal Date  Carbon Dioxide (ppm)  \\\n",
       "0  1958      1     1958.0411                   NaN   \n",
       "1  1958      2     1958.1260                   NaN   \n",
       "2  1958      3     1958.2027                315.69   \n",
       "3  1958      4     1958.2877                317.45   \n",
       "4  1958      5     1958.3699                317.50   \n",
       "\n",
       "   Seasonally Adjusted CO2 (ppm)  Carbon Dioxide Fit (ppm)  \\\n",
       "0                            NaN                       NaN   \n",
       "1                            NaN                       NaN   \n",
       "2                         314.42                    316.18   \n",
       "3                         315.15                    317.30   \n",
       "4                         314.73                    317.83   \n",
       "\n",
       "   Seasonally Adjusted CO2 Fit (ppm)  \n",
       "0                                NaN  \n",
       "1                                NaN  \n",
       "2                             314.89  \n",
       "3                             314.98  \n",
       "4                             315.06  "
      ]
     },
     "execution_count": 2,
     "metadata": {},
     "output_type": "execute_result"
    }
   ],
   "source": [
    "data = pd.read_csv('archive.csv') # co2 data\n",
    "\n",
    "data.head()"
   ]
  },
  {
   "cell_type": "code",
   "execution_count": 3,
   "metadata": {},
   "outputs": [],
   "source": [
    "data = data.to_numpy()\n",
    "\n",
    "co2 = data[:,3]"
   ]
  },
  {
   "cell_type": "code",
   "execution_count": 4,
   "metadata": {},
   "outputs": [
    {
     "data": {
      "text/plain": [
       "Text(0.5, 0, 'time series')"
      ]
     },
     "execution_count": 4,
     "metadata": {},
     "output_type": "execute_result"
    },
    {
     "data": {
      "image/png": "[encoded data removed]",
      "text/plain": [
       "<Figure size 432x288 with 1 Axes>"
      ]
     },
     "metadata": {
      "needs_background": "light"
     },
     "output_type": "display_data"
    }
   ],
   "source": [
    "plt.plot(co2)\n",
    "plt.ylabel('co2(ppm)')\n",
    "plt.xlabel('time series')"
   ]
  },
  {
   "cell_type": "code",
   "execution_count": 5,
   "metadata": {},
   "outputs": [],
   "source": [
    "X_i,Y_i = window_make.dowlist_10(co2,1)"
   ]
  },
  {
   "cell_type": "code",
   "execution_count": 6,
   "metadata": {},
   "outputs": [
    {
     "name": "stdout",
     "output_type": "stream",
     "text": [
      "[[0.80130933]\n",
      " [0.78243317]\n",
      " [0.1056192 ]\n",
      " [0.08085106]\n",
      " [0.37337698]]\n",
      "[[1.00000000e+00 8.01309329e-01 6.42096641e-01 5.14518028e-01\n",
      "  4.12288096e-01 3.30370298e-01]\n",
      " [1.00000000e+00 7.82433170e-01 6.12201665e-01 4.79006889e-01\n",
      "  3.74790879e-01 2.93248815e-01]\n",
      " [1.00000000e+00 1.05619203e-01 1.11554161e-02 1.17822617e-03\n",
      "  1.24443309e-04 1.31436032e-05]\n",
      " [1.00000000e+00 8.08510638e-02 6.53689452e-03 5.28514876e-04\n",
      "  4.27309900e-05 3.45484600e-06]\n",
      " [1.00000000e+00 3.73376978e-01 1.39410367e-01 5.20526216e-02\n",
      "  1.94352505e-02 7.25667511e-03]]\n"
     ]
    }
   ],
   "source": [
    "X_train, X_test, Y_train, Y_test = train_test_split(X_i, Y_i, test_size=0.2, random_state=1)\n",
    "\n",
    "\n",
    "scaler = MinMaxScaler()\n",
    "scaler.fit(X_train)\n",
    "x_scale = scaler.transform(X_train) # scaling train data\n",
    "x_test = scaler.transform(X_test) # scaling test data using train data mean and std \n",
    "\n",
    "\n",
    "\n",
    "\n",
    "print(x_scale[:5])\n",
    "\n",
    "poly = PolynomialFeatures(5)\n",
    "x_train = poly.fit_transform(x_scale)\n",
    "x_test = poly.fit_transform(x_test)\n",
    "print(x_train[:5])"
   ]
  },
  {
   "cell_type": "code",
   "execution_count": 7,
   "metadata": {},
   "outputs": [
    {
     "name": "stdout",
     "output_type": "stream",
     "text": [
      "(551, 6)\n",
      "(138, 6)\n",
      "(551, 1)\n",
      "(138, 1)\n"
     ]
    }
   ],
   "source": [
    "print(x_train.shape)\n",
    "print(x_test.shape)\n",
    "print(Y_train.shape)\n",
    "print(Y_test.shape)"
   ]
  },
  {
   "cell_type": "markdown",
   "metadata": {},
   "source": [
    "# Momentum method"
   ]
  },
  {
   "cell_type": "code",
   "execution_count": 8,
   "metadata": {},
   "outputs": [],
   "source": [
    "from sklearn.metrics import mean_squared_error\n",
    "\n",
    "\n",
    "\n"
   ]
  },
  {
   "cell_type": "code",
   "execution_count": 9,
   "metadata": {},
   "outputs": [],
   "source": [
    "loss_history_momentum,w = Gradient.momentum_gradient(x_train,Y_train,lr=0.0001, epoch=5000, batch_size=128,gamma=0.9)"
   ]
  },
  {
   "cell_type": "code",
   "execution_count": 10,
   "metadata": {},
   "outputs": [
    {
     "data": {
      "text/plain": [
       "Text(0, 0.5, 'loss')"
      ]
     },
     "execution_count": 10,
     "metadata": {},
     "output_type": "execute_result"
    },
    {
     "data": {
      "image/png": "[encoded data removed]",
      "text/plain": [
       "<Figure size 432x288 with 1 Axes>"
      ]
     },
     "metadata": {
      "needs_background": "light"
     },
     "output_type": "display_data"
    }
   ],
   "source": [
    "plt.plot(range(len(loss_history_momentum))[:100],loss_history_momentum[:100])\n",
    "plt.xlabel('epoch')\n",
    "plt.ylabel('loss')"
   ]
  },
  {
   "cell_type": "code",
   "execution_count": 11,
   "metadata": {},
   "outputs": [
    {
     "data": {
      "text/plain": [
       "Text(0, 0.5, 'loss')"
      ]
     },
     "execution_count": 11,
     "metadata": {},
     "output_type": "execute_result"
    },
    {
     "data": {
      "image/png": "[encoded data removed]",
      "text/plain": [
       "<Figure size 432x288 with 1 Axes>"
      ]
     },
     "metadata": {
      "needs_background": "light"
     },
     "output_type": "display_data"
    }
   ],
   "source": [
    "plt.plot(range(len(loss_history_momentum))[:1500],loss_history_momentum[:1500])\n",
    "plt.xlabel('epoch')\n",
    "plt.ylabel('loss')"
   ]
  },
  {
   "cell_type": "code",
   "execution_count": 12,
   "metadata": {},
   "outputs": [
    {
     "data": {
      "text/plain": [
       "array([[314.87528017,  85.67483254,  13.97173556,  -2.33075278,\n",
       "         -4.00754736,  -1.98976773]])"
      ]
     },
     "execution_count": 12,
     "metadata": {},
     "output_type": "execute_result"
    }
   ],
   "source": [
    "w"
   ]
  },
  {
   "cell_type": "code",
   "execution_count": 13,
   "metadata": {},
   "outputs": [
    {
     "name": "stdout",
     "output_type": "stream",
     "text": [
      "1.7946457507015585\n"
     ]
    }
   ],
   "source": [
    "Y_pred = np.matmul(x_test,w.reshape((6,-1))) \n",
    "rmse = mean_squared_error(Y_test, Y_pred)\n",
    "print(rmse)"
   ]
  },
  {
   "cell_type": "markdown",
   "metadata": {},
   "source": [
    "# Nestrov Accelerated Gradient"
   ]
  },
  {
   "cell_type": "markdown",
   "metadata": {},
   "source": [
    "## $\\gamma = 0.9$"
   ]
  },
  {
   "cell_type": "code",
   "execution_count": 14,
   "metadata": {},
   "outputs": [],
   "source": [
    "from sklearn.metrics import mean_squared_error"
   ]
  },
  {
   "cell_type": "code",
   "execution_count": 15,
   "metadata": {},
   "outputs": [],
   "source": [
    "loss_history_nag,w = Gradient.nestrov_gradient(x_train,Y_train,lr=0.0001, epoch=5000, batch_size=128,gamma=0.9) \n"
   ]
  },
  {
   "cell_type": "code",
   "execution_count": 16,
   "metadata": {},
   "outputs": [
    {
     "data": {
      "text/plain": [
       "[<matplotlib.lines.Line2D at 0x7fbbd0b32700>]"
      ]
     },
     "execution_count": 16,
     "metadata": {},
     "output_type": "execute_result"
    },
    {
     "data": {
      "image/png": "[encoded data removed]",
      "text/plain": [
       "<Figure size 432x288 with 1 Axes>"
      ]
     },
     "metadata": {
      "needs_background": "light"
     },
     "output_type": "display_data"
    }
   ],
   "source": [
    "plt.plot(range(len(loss_history_nag[:100])),loss_history_nag[:100])"
   ]
  },
  {
   "cell_type": "code",
   "execution_count": 17,
   "metadata": {},
   "outputs": [
    {
     "data": {
      "text/plain": [
       "Text(0, 0.5, 'loss')"
      ]
     },
     "execution_count": 17,
     "metadata": {},
     "output_type": "execute_result"
    },
    {
     "data": {
      "image/png": "[encoded data removed]",
      "text/plain": [
       "<Figure size 432x288 with 1 Axes>"
      ]
     },
     "metadata": {
      "needs_background": "light"
     },
     "output_type": "display_data"
    }
   ],
   "source": [
    "plt.plot(range(len(loss_history_momentum))[:600],loss_history_momentum[:600])\n",
    "plt.xlabel('epoch')\n",
    "plt.ylabel('loss')"
   ]
  },
  {
   "cell_type": "code",
   "execution_count": 18,
   "metadata": {},
   "outputs": [
    {
     "data": {
      "text/plain": [
       "array([[314.87029816,  85.56193596,  14.52295804,  -3.05589506,\n",
       "         -4.05873634,  -1.64119145]])"
      ]
     },
     "execution_count": 18,
     "metadata": {},
     "output_type": "execute_result"
    }
   ],
   "source": [
    "w"
   ]
  },
  {
   "cell_type": "code",
   "execution_count": 19,
   "metadata": {},
   "outputs": [
    {
     "name": "stdout",
     "output_type": "stream",
     "text": [
      "rmse is  [15.06591719 15.51517517 16.43598169 15.64793809 14.33405839 15.09334374\n",
      " 16.60504818 15.49214118 14.62370303]\n"
     ]
    }
   ],
   "source": [
    "print(\"rmse is \",np.sqrt(loss_history_nag[-10:-1]))"
   ]
  },
  {
   "cell_type": "code",
   "execution_count": 20,
   "metadata": {},
   "outputs": [
    {
     "name": "stdout",
     "output_type": "stream",
     "text": [
      "1.7894858564255234\n"
     ]
    }
   ],
   "source": [
    "Y_pred = np.matmul(x_test,w.reshape((6,-1))) \n",
    "rmse = mean_squared_error(Y_test, Y_pred)\n",
    "print(rmse)"
   ]
  },
  {
   "cell_type": "markdown",
   "metadata": {},
   "source": [
    "# Parameter Change "
   ]
  },
  {
   "cell_type": "markdown",
   "metadata": {},
   "source": [
    "## Momentum Method"
   ]
  },
  {
   "cell_type": "code",
   "execution_count": 21,
   "metadata": {
    "collapsed": true,
    "jupyter": {
     "outputs_hidden": true
    }
   },
   "outputs": [
    {
     "name": "stdout",
     "output_type": "stream",
     "text": [
      "learning_rate =  1e-05\n",
      "batch_size =  32\n",
      "learning_rate =  1e-05\n",
      "batch_size =  32\n",
      "learning_rate =  1e-05\n",
      "batch_size =  32\n",
      "learning_rate =  1e-05\n",
      "batch_size =  32\n",
      "learning_rate =  1e-05\n",
      "batch_size =  32\n",
      "learning_rate =  1e-05\n",
      "batch_size =  32\n",
      "learning_rate =  1e-05\n",
      "batch_size =  32\n",
      "learning_rate =  1e-05\n",
      "batch_size =  32\n",
      "learning_rate =  1e-05\n",
      "batch_size =  64\n",
      "learning_rate =  1e-05\n",
      "batch_size =  64\n",
      "learning_rate =  1e-05\n",
      "batch_size =  64\n",
      "learning_rate =  1e-05\n",
      "batch_size =  64\n",
      "learning_rate =  1e-05\n",
      "batch_size =  64\n",
      "learning_rate =  1e-05\n",
      "batch_size =  64\n",
      "learning_rate =  1e-05\n",
      "batch_size =  64\n",
      "learning_rate =  1e-05\n",
      "batch_size =  64\n",
      "learning_rate =  1e-05\n",
      "batch_size =  128\n",
      "learning_rate =  1e-05\n",
      "batch_size =  128\n",
      "learning_rate =  1e-05\n",
      "batch_size =  128\n",
      "learning_rate =  1e-05\n",
      "batch_size =  128\n",
      "learning_rate =  1e-05\n",
      "batch_size =  128\n",
      "learning_rate =  1e-05\n",
      "batch_size =  128\n",
      "learning_rate =  1e-05\n",
      "batch_size =  128\n",
      "learning_rate =  1e-05\n",
      "batch_size =  128\n",
      "learning_rate =  1e-05\n",
      "batch_size =  256\n",
      "learning_rate =  1e-05\n",
      "batch_size =  256\n",
      "learning_rate =  1e-05\n",
      "batch_size =  256\n",
      "learning_rate =  1e-05\n",
      "batch_size =  256\n",
      "learning_rate =  1e-05\n",
      "batch_size =  256\n",
      "learning_rate =  1e-05\n",
      "batch_size =  256\n",
      "learning_rate =  1e-05\n",
      "batch_size =  256\n",
      "learning_rate =  1e-05\n",
      "batch_size =  256\n",
      "learning_rate =  0.0001\n",
      "batch_size =  32\n",
      "learning_rate =  0.0001\n",
      "batch_size =  32\n",
      "learning_rate =  0.0001\n",
      "batch_size =  32\n",
      "learning_rate =  0.0001\n",
      "batch_size =  32\n",
      "learning_rate =  0.0001\n",
      "batch_size =  32\n",
      "learning_rate =  0.0001\n",
      "batch_size =  32\n",
      "learning_rate =  0.0001\n",
      "batch_size =  32\n",
      "learning_rate =  0.0001\n",
      "batch_size =  32\n",
      "learning_rate =  0.0001\n",
      "batch_size =  64\n",
      "learning_rate =  0.0001\n",
      "batch_size =  64\n",
      "learning_rate =  0.0001\n",
      "batch_size =  64\n",
      "learning_rate =  0.0001\n",
      "batch_size =  64\n",
      "learning_rate =  0.0001\n",
      "batch_size =  64\n",
      "learning_rate =  0.0001\n",
      "batch_size =  64\n",
      "learning_rate =  0.0001\n",
      "batch_size =  64\n",
      "learning_rate =  0.0001\n",
      "batch_size =  64\n",
      "learning_rate =  0.0001\n",
      "batch_size =  128\n",
      "learning_rate =  0.0001\n",
      "batch_size =  128\n",
      "learning_rate =  0.0001\n",
      "batch_size =  128\n",
      "learning_rate =  0.0001\n",
      "batch_size =  128\n",
      "learning_rate =  0.0001\n",
      "batch_size =  128\n",
      "learning_rate =  0.0001\n",
      "batch_size =  128\n",
      "learning_rate =  0.0001\n",
      "batch_size =  128\n",
      "learning_rate =  0.0001\n",
      "batch_size =  128\n",
      "learning_rate =  0.0001\n",
      "batch_size =  256\n",
      "learning_rate =  0.0001\n",
      "batch_size =  256\n",
      "learning_rate =  0.0001\n",
      "batch_size =  256\n",
      "learning_rate =  0.0001\n",
      "batch_size =  256\n",
      "learning_rate =  0.0001\n",
      "batch_size =  256\n",
      "learning_rate =  0.0001\n",
      "batch_size =  256\n",
      "learning_rate =  0.0001\n",
      "batch_size =  256\n",
      "learning_rate =  0.0001\n",
      "batch_size =  256\n",
      "learning_rate =  0.001\n",
      "batch_size =  32\n",
      "learning_rate =  0.001\n",
      "batch_size =  32\n",
      "learning_rate =  0.001\n",
      "batch_size =  32\n",
      "learning_rate =  0.001\n",
      "batch_size =  32\n",
      "learning_rate =  0.001\n",
      "batch_size =  32\n",
      "learning_rate =  0.001\n",
      "batch_size =  32\n",
      "learning_rate =  0.001\n",
      "batch_size =  32\n",
      "learning_rate =  0.001\n",
      "batch_size =  32\n",
      "learning_rate =  0.001\n",
      "batch_size =  64\n",
      "learning_rate =  0.001\n",
      "batch_size =  64\n",
      "learning_rate =  0.001\n",
      "batch_size =  64\n",
      "learning_rate =  0.001\n",
      "batch_size =  64\n",
      "learning_rate =  0.001\n",
      "batch_size =  64\n",
      "learning_rate =  0.001\n",
      "batch_size =  64\n",
      "learning_rate =  0.001\n",
      "batch_size =  64\n",
      "learning_rate =  0.001\n",
      "batch_size =  64\n",
      "learning_rate =  0.001\n",
      "batch_size =  128\n",
      "learning_rate =  0.001\n",
      "batch_size =  128\n",
      "learning_rate =  0.001\n",
      "batch_size =  128\n",
      "learning_rate =  0.001\n",
      "batch_size =  128\n",
      "learning_rate =  0.001\n",
      "batch_size =  128\n",
      "learning_rate =  0.001\n",
      "batch_size =  128\n",
      "learning_rate =  0.001\n",
      "batch_size =  128\n",
      "learning_rate =  0.001\n",
      "batch_size =  128\n",
      "learning_rate =  0.001\n",
      "batch_size =  256\n",
      "learning_rate =  0.001\n",
      "batch_size =  256\n",
      "learning_rate =  0.001\n",
      "batch_size =  256\n",
      "learning_rate =  0.001\n",
      "batch_size =  256\n",
      "learning_rate =  0.001\n",
      "batch_size =  256\n",
      "learning_rate =  0.001\n",
      "batch_size =  256\n",
      "learning_rate =  0.001\n",
      "batch_size =  256\n",
      "learning_rate =  0.001\n",
      "batch_size =  256\n"
     ]
    }
   ],
   "source": [
    "import time\n",
    "lr_set = [0.00001, 0.0001, 0.001]\n",
    "batch_set = [32, 64, 128, 256]\n",
    "epoch_size = 1500\n",
    "gamma_list = [0.1,0.2,0.3,0.4,0.5,0.6,0.7,0.8]\n",
    "rmse = np.zeros((len(lr_set), len(batch_set),len(gamma_list)))\n",
    "time_record = np.zeros((len(lr_set),len(batch_set),len(gamma_list)))\n",
    "\n",
    "for i in range(len(lr_set)):\n",
    "    \n",
    "    hyper = lr_set[i]\n",
    "    \n",
    "    for j in range(len(batch_set)):\n",
    "        \n",
    "        for k in range(len(gamma_list)):\n",
    "            batch = batch_set[j]\n",
    "        \n",
    "            start = time.time()\n",
    "            loss, w_conv = Gradient.momentum_gradient(x_train, Y_train, lr=hyper, epoch=epoch_size, batch_size=batch,gamma=gamma_list[k])\n",
    "            time_cal = time.time() - start\n",
    "        \n",
    "            time_record[i,j,k] = time_cal\n",
    "            Y_pred = np.matmul(x_test,w_conv.reshape((6,-1))) \n",
    "            rmse[i,j,k] = mean_squared_error(Y_test, Y_pred)\n",
    "            print(\"learning_rate = \", hyper)\n",
    "            print(\"batch_size = \", batch)\n",
    "        \n",
    "        "
   ]
  },
  {
   "cell_type": "code",
   "execution_count": 22,
   "metadata": {},
   "outputs": [
    {
     "data": {
      "text/plain": [
       "array([[[9.42880106e+03, 7.18175850e+03, 5.19605398e+03, 3.57466587e+03,\n",
       "         2.35285799e+03, 1.54999586e+03, 9.78268203e+02, 4.97295144e+02],\n",
       "        [1.83979073e+03, 1.50047603e+03, 1.20585181e+03, 9.52899576e+02,\n",
       "         7.19254354e+02, 4.73704906e+02, 2.37502414e+02, 6.10568699e+01],\n",
       "        [5.89531227e+02, 4.67963843e+02, 3.45657189e+02, 2.35947994e+02,\n",
       "         1.36901562e+02, 6.05235831e+01, 1.61803996e+01, 2.70227602e+00],\n",
       "        [9.45455743e+01, 5.97332300e+01, 3.38666254e+01, 1.60725506e+01,\n",
       "         6.49179649e+00, 2.72342800e+00, 2.05916066e+00, 2.04110012e+00]],\n",
       "\n",
       "       [[4.30376189e+01, 2.52291633e+01, 1.29176741e+01, 5.98201111e+00,\n",
       "         2.91776246e+00, 2.09743478e+00, 2.04274149e+00, 2.06073738e+00],\n",
       "        [2.28524980e+00, 2.08608413e+00, 2.05450190e+00, 2.03697416e+00,\n",
       "         2.05206869e+00, 2.05018449e+00, 2.04477351e+00, 2.02260804e+00],\n",
       "        [2.05741771e+00, 2.05156706e+00, 2.04195007e+00, 2.03566944e+00,\n",
       "         2.02764295e+00, 2.00944431e+00, 2.00947778e+00, 1.98767190e+00],\n",
       "        [2.01972434e+00, 2.00708853e+00, 2.00294451e+00, 2.00213638e+00,\n",
       "         1.98842676e+00, 1.98161750e+00, 1.95978929e+00, 1.92460225e+00]],\n",
       "\n",
       "       [[2.04962943e+00, 2.04682697e+00, 2.03073214e+00, 2.03460502e+00,\n",
       "         2.03196959e+00, 2.00576986e+00, 1.98590295e+00, 1.93707425e+00],\n",
       "        [1.97853192e+00, 1.96657063e+00, 1.95642090e+00, 1.94287508e+00,\n",
       "         1.93155851e+00, 1.90978762e+00, 1.89118984e+00, 1.83570080e+00],\n",
       "        [1.90860996e+00, 1.89734883e+00, 1.88332139e+00, 1.86720620e+00,\n",
       "         1.83940763e+00, 1.81491143e+00, 1.77494447e+00, 1.74699869e+00],\n",
       "        [1.81308042e+00, 1.79253931e+00, 1.78199545e+00, 1.76237577e+00,\n",
       "         1.73908724e+00, 1.71931370e+00, 1.70380684e+00, 1.69784408e+00]]])"
      ]
     },
     "execution_count": 22,
     "metadata": {},
     "output_type": "execute_result"
    }
   ],
   "source": [
    "rmse"
   ]
  },
  {
   "cell_type": "code",
   "execution_count": 23,
   "metadata": {},
   "outputs": [
    {
     "data": {
      "text/plain": [
       "1.6978440784870652"
      ]
     },
     "execution_count": 23,
     "metadata": {},
     "output_type": "execute_result"
    }
   ],
   "source": [
    "np.min(rmse)"
   ]
  },
  {
   "cell_type": "code",
   "execution_count": 25,
   "metadata": {},
   "outputs": [
    {
     "name": "stdout",
     "output_type": "stream",
     "text": [
      "Learning Rate 0.001\n",
      "batch size 256\n",
      "gamma 0.8\n",
      "Minimum rmse is 1.6978440784870652\n"
     ]
    }
   ],
   "source": [
    "Best_Parameter = np.where(rmse==np.min(rmse))\n",
    "print(\"Learning Rate\",lr_set[Best_Parameter[0][0]])\n",
    "print(\"batch size\",batch_set[Best_Parameter[1][0]])\n",
    "print(\"gamma\",gamma_list[Best_Parameter[2][0]])\n",
    "print(\"Minimum rmse is\",np.min(rmse))"
   ]
  },
  {
   "cell_type": "markdown",
   "metadata": {},
   "source": [
    "## Nestrov Accelerated Gradient"
   ]
  },
  {
   "cell_type": "code",
   "execution_count": 26,
   "metadata": {
    "collapsed": true,
    "jupyter": {
     "outputs_hidden": true
    }
   },
   "outputs": [
    {
     "name": "stdout",
     "output_type": "stream",
     "text": [
      "learning_rate =  1e-05\n",
      "batch_size =  32\n",
      "learning_rate =  1e-05\n",
      "batch_size =  32\n",
      "learning_rate =  1e-05\n",
      "batch_size =  32\n",
      "learning_rate =  1e-05\n",
      "batch_size =  32\n",
      "learning_rate =  1e-05\n",
      "batch_size =  32\n",
      "learning_rate =  1e-05\n",
      "batch_size =  32\n",
      "learning_rate =  1e-05\n",
      "batch_size =  32\n",
      "learning_rate =  1e-05\n",
      "batch_size =  32\n",
      "learning_rate =  1e-05\n",
      "batch_size =  64\n",
      "learning_rate =  1e-05\n",
      "batch_size =  64\n",
      "learning_rate =  1e-05\n",
      "batch_size =  64\n",
      "learning_rate =  1e-05\n",
      "batch_size =  64\n",
      "learning_rate =  1e-05\n",
      "batch_size =  64\n",
      "learning_rate =  1e-05\n",
      "batch_size =  64\n",
      "learning_rate =  1e-05\n",
      "batch_size =  64\n",
      "learning_rate =  1e-05\n",
      "batch_size =  64\n",
      "learning_rate =  1e-05\n",
      "batch_size =  128\n",
      "learning_rate =  1e-05\n",
      "batch_size =  128\n",
      "learning_rate =  1e-05\n",
      "batch_size =  128\n",
      "learning_rate =  1e-05\n",
      "batch_size =  128\n",
      "learning_rate =  1e-05\n",
      "batch_size =  128\n",
      "learning_rate =  1e-05\n",
      "batch_size =  128\n",
      "learning_rate =  1e-05\n",
      "batch_size =  128\n",
      "learning_rate =  1e-05\n",
      "batch_size =  128\n",
      "learning_rate =  1e-05\n",
      "batch_size =  256\n",
      "learning_rate =  1e-05\n",
      "batch_size =  256\n",
      "learning_rate =  1e-05\n",
      "batch_size =  256\n",
      "learning_rate =  1e-05\n",
      "batch_size =  256\n",
      "learning_rate =  1e-05\n",
      "batch_size =  256\n",
      "learning_rate =  1e-05\n",
      "batch_size =  256\n",
      "learning_rate =  1e-05\n",
      "batch_size =  256\n",
      "learning_rate =  1e-05\n",
      "batch_size =  256\n",
      "learning_rate =  0.0001\n",
      "batch_size =  32\n",
      "learning_rate =  0.0001\n",
      "batch_size =  32\n",
      "learning_rate =  0.0001\n",
      "batch_size =  32\n",
      "learning_rate =  0.0001\n",
      "batch_size =  32\n",
      "learning_rate =  0.0001\n",
      "batch_size =  32\n",
      "learning_rate =  0.0001\n",
      "batch_size =  32\n",
      "learning_rate =  0.0001\n",
      "batch_size =  32\n",
      "learning_rate =  0.0001\n",
      "batch_size =  32\n",
      "learning_rate =  0.0001\n",
      "batch_size =  64\n",
      "learning_rate =  0.0001\n",
      "batch_size =  64\n",
      "learning_rate =  0.0001\n",
      "batch_size =  64\n",
      "learning_rate =  0.0001\n",
      "batch_size =  64\n",
      "learning_rate =  0.0001\n",
      "batch_size =  64\n",
      "learning_rate =  0.0001\n",
      "batch_size =  64\n",
      "learning_rate =  0.0001\n",
      "batch_size =  64\n",
      "learning_rate =  0.0001\n",
      "batch_size =  64\n",
      "learning_rate =  0.0001\n",
      "batch_size =  128\n",
      "learning_rate =  0.0001\n",
      "batch_size =  128\n",
      "learning_rate =  0.0001\n",
      "batch_size =  128\n",
      "learning_rate =  0.0001\n",
      "batch_size =  128\n",
      "learning_rate =  0.0001\n",
      "batch_size =  128\n",
      "learning_rate =  0.0001\n",
      "batch_size =  128\n",
      "learning_rate =  0.0001\n",
      "batch_size =  128\n",
      "learning_rate =  0.0001\n",
      "batch_size =  128\n",
      "learning_rate =  0.0001\n",
      "batch_size =  256\n",
      "learning_rate =  0.0001\n",
      "batch_size =  256\n",
      "learning_rate =  0.0001\n",
      "batch_size =  256\n",
      "learning_rate =  0.0001\n",
      "batch_size =  256\n",
      "learning_rate =  0.0001\n",
      "batch_size =  256\n",
      "learning_rate =  0.0001\n",
      "batch_size =  256\n",
      "learning_rate =  0.0001\n",
      "batch_size =  256\n",
      "learning_rate =  0.0001\n",
      "batch_size =  256\n",
      "learning_rate =  0.001\n",
      "batch_size =  32\n",
      "learning_rate =  0.001\n",
      "batch_size =  32\n",
      "learning_rate =  0.001\n",
      "batch_size =  32\n",
      "learning_rate =  0.001\n",
      "batch_size =  32\n",
      "learning_rate =  0.001\n",
      "batch_size =  32\n",
      "learning_rate =  0.001\n",
      "batch_size =  32\n",
      "learning_rate =  0.001\n",
      "batch_size =  32\n",
      "learning_rate =  0.001\n",
      "batch_size =  32\n",
      "learning_rate =  0.001\n",
      "batch_size =  64\n",
      "learning_rate =  0.001\n",
      "batch_size =  64\n",
      "learning_rate =  0.001\n",
      "batch_size =  64\n",
      "learning_rate =  0.001\n",
      "batch_size =  64\n",
      "learning_rate =  0.001\n",
      "batch_size =  64\n",
      "learning_rate =  0.001\n",
      "batch_size =  64\n",
      "learning_rate =  0.001\n",
      "batch_size =  64\n",
      "learning_rate =  0.001\n",
      "batch_size =  64\n",
      "learning_rate =  0.001\n",
      "batch_size =  128\n",
      "learning_rate =  0.001\n",
      "batch_size =  128\n",
      "learning_rate =  0.001\n",
      "batch_size =  128\n",
      "learning_rate =  0.001\n",
      "batch_size =  128\n",
      "learning_rate =  0.001\n",
      "batch_size =  128\n",
      "learning_rate =  0.001\n",
      "batch_size =  128\n",
      "learning_rate =  0.001\n",
      "batch_size =  128\n",
      "learning_rate =  0.001\n",
      "batch_size =  128\n",
      "learning_rate =  0.001\n",
      "batch_size =  256\n",
      "learning_rate =  0.001\n",
      "batch_size =  256\n",
      "learning_rate =  0.001\n",
      "batch_size =  256\n",
      "learning_rate =  0.001\n",
      "batch_size =  256\n",
      "learning_rate =  0.001\n",
      "batch_size =  256\n",
      "learning_rate =  0.001\n",
      "batch_size =  256\n",
      "learning_rate =  0.001\n",
      "batch_size =  256\n",
      "learning_rate =  0.001\n",
      "batch_size =  256\n"
     ]
    }
   ],
   "source": [
    "import time\n",
    "lr_set = [0.00001, 0.0001, 0.001]\n",
    "batch_set = [32, 64, 128, 256]\n",
    "epoch_size = 1500\n",
    "gamma_list = [0.1,0.2,0.3,0.4,0.5,0.6,0.7,0.8]\n",
    "rmse_nag = np.zeros((len(lr_set), len(batch_set),len(gamma_list)))\n",
    "time_record_nag = np.zeros((len(lr_set),len(batch_set),len(gamma_list)))\n",
    "\n",
    "for i in range(len(lr_set)):\n",
    "    \n",
    "    hyper = lr_set[i]\n",
    "    \n",
    "    for j in range(len(batch_set)):\n",
    "        \n",
    "        for k in range(len(gamma_list)):\n",
    "            batch = batch_set[j]\n",
    "        \n",
    "            start = time.time()\n",
    "            loss, w_conv = Gradient.nestrov_gradient(x_train, Y_train, lr=hyper, epoch=epoch_size, batch_size=batch,gamma=gamma_list[k])\n",
    "            time_cal = time.time() - start\n",
    "        \n",
    "            time_record_nag[i,j,k] = time_cal\n",
    "            Y_pred = np.matmul(x_test,w_conv.reshape((6,-1))) \n",
    "            rmse_nag[i,j,k] = mean_squared_error(Y_test, Y_pred)\n",
    "            print(\"learning_rate = \", hyper)\n",
    "            print(\"batch_size = \", batch)\n",
    "        \n",
    "        "
   ]
  },
  {
   "cell_type": "code",
   "execution_count": 27,
   "metadata": {},
   "outputs": [
    {
     "data": {
      "text/plain": [
       "array([[[9.44817317e+03, 7.17260788e+03, 5.22230679e+03, 3.58929065e+03,\n",
       "         2.36923098e+03, 1.55154437e+03, 9.80689172e+02, 4.96088476e+02],\n",
       "        [1.85189143e+03, 1.50648620e+03, 1.20657700e+03, 9.57945863e+02,\n",
       "         7.15183352e+02, 4.71941846e+02, 2.39543640e+02, 6.16553611e+01],\n",
       "        [5.86377946e+02, 4.66919829e+02, 3.49613227e+02, 2.34229222e+02,\n",
       "         1.36547453e+02, 6.06421186e+01, 1.62408891e+01, 2.69920521e+00],\n",
       "        [9.50586869e+01, 6.04673294e+01, 3.43000250e+01, 1.63069310e+01,\n",
       "         6.47342692e+00, 2.73610931e+00, 2.04663246e+00, 2.04984024e+00]],\n",
       "\n",
       "       [[4.32522440e+01, 2.52935697e+01, 1.30317744e+01, 6.03437503e+00,\n",
       "         2.91272565e+00, 2.10777610e+00, 2.06418390e+00, 2.06639139e+00],\n",
       "        [2.26487326e+00, 2.08426249e+00, 2.04728478e+00, 2.03466297e+00,\n",
       "         2.04974691e+00, 2.04106630e+00, 2.03736721e+00, 2.01347798e+00],\n",
       "        [2.05089980e+00, 2.03416513e+00, 2.05338624e+00, 2.04190359e+00,\n",
       "         2.01060367e+00, 2.00391732e+00, 1.99697846e+00, 1.98419512e+00],\n",
       "        [2.00841524e+00, 2.01124883e+00, 1.99595074e+00, 1.98160752e+00,\n",
       "         1.98666157e+00, 1.97252780e+00, 1.95329071e+00, 1.92712047e+00]],\n",
       "\n",
       "       [[2.03400324e+00, 2.04076870e+00, 2.03560197e+00, 2.03359439e+00,\n",
       "         2.01301170e+00, 2.00695983e+00, 1.98594555e+00, 1.94315947e+00],\n",
       "        [1.98044517e+00, 1.96784767e+00, 1.95484419e+00, 1.94830904e+00,\n",
       "         1.93265460e+00, 1.91301540e+00, 1.88110235e+00, 1.82931421e+00],\n",
       "        [1.91233686e+00, 1.90247323e+00, 1.87625178e+00, 1.85506779e+00,\n",
       "         1.84281493e+00, 1.81052963e+00, 1.77338177e+00, 1.72876750e+00],\n",
       "        [1.80731570e+00, 1.79672089e+00, 1.78094194e+00, 1.76310629e+00,\n",
       "         1.74225726e+00, 1.72073341e+00, 1.70258493e+00, 1.69388776e+00]]])"
      ]
     },
     "execution_count": 27,
     "metadata": {},
     "output_type": "execute_result"
    }
   ],
   "source": [
    "rmse_nag"
   ]
  },
  {
   "cell_type": "code",
   "execution_count": 28,
   "metadata": {},
   "outputs": [
    {
     "name": "stdout",
     "output_type": "stream",
     "text": [
      "Learninmomentum_gradientate 0.001\n",
      "batch size 256\n",
      "gamma 0.8\n",
      "Minimum rmse is 1.6938877645189263\n"
     ]
    }
   ],
   "source": [
    "Best_Parameter = np.where(rmse_nag==np.min(rmse_nag))\n",
    "print(\"Learninmomentum_gradientate\",lr_set[Best_Parameter[0][0]])\n",
    "print(\"batch size\",batch_set[Best_Parameter[1][0]])\n",
    "print(\"gamma\",gamma_list[Best_Parameter[2][0]])\n",
    "print(\"Minimum rmse is\",np.min(rmse_nag))"
   ]
  },
  {
   "cell_type": "markdown",
   "metadata": {},
   "source": [
    "# Comapring Algorithms"
   ]
  },
  {
   "cell_type": "markdown",
   "metadata": {},
   "source": [
    "* lr :  0.001\n",
    "* gamma : 0.8\n",
    "* batch size : 256"
   ]
  },
  {
   "cell_type": "code",
   "execution_count": 29,
   "metadata": {},
   "outputs": [],
   "source": [
    "rmse_sgd_l = []\n",
    "for i in range(100):\n",
    "    loss, w_conv = Gradient.stochastic_gradient(x_train, Y_train, lr=0.001, epoch=1500, batch_size=256)\n",
    "    Y_pred = np.matmul(x_test,w_conv.reshape((6,-1))) \n",
    "    rmse_sgd_temp = mean_squared_error(Y_test, Y_pred)\n",
    "    rmse_sgd_l.append(rmse_sgd_temp)"
   ]
  },
  {
   "cell_type": "code",
   "execution_count": 30,
   "metadata": {},
   "outputs": [],
   "source": [
    "rmse_nag_l = []\n",
    "\n",
    "for i in range(100):\n",
    "    loss, w_conv = Gradient.nestrov_gradient(x_train, Y_train, lr=0.001, epoch=1500, batch_size=256,gamma=0.8)\n",
    "    Y_pred = np.matmul(x_test,w_conv.reshape((6,-1))) \n",
    "    rmse_nag_temp = mean_squared_error(Y_test, Y_pred)\n",
    "    rmse_nag_l.append(rmse_nag_temp)\n",
    "    \n",
    "    "
   ]
  },
  {
   "cell_type": "code",
   "execution_count": 31,
   "metadata": {},
   "outputs": [],
   "source": [
    "rmse_moment_l = []\n",
    "for i in range(100):\n",
    "    loss, w_conv = Gradient.momentum_gradient(x_train, Y_train, lr=0.001, epoch=1500, batch_size=256,gamma=0.8)\n",
    "    Y_pred = np.matmul(x_test,w_conv.reshape((6,-1))) \n",
    "    rmse_moment_temp = mean_squared_error(Y_test, Y_pred)\n",
    "    rmse_moment_l.append(rmse_moment_temp)\n",
    "    del loss\n",
    "    del w_conv\n",
    "    del rmse_moment_temp\n",
    "    "
   ]
  },
  {
   "cell_type": "code",
   "execution_count": 32,
   "metadata": {},
   "outputs": [
    {
     "data": {
      "text/plain": [
       "Text(0, 0.5, 'MSE')"
      ]
     },
     "execution_count": 32,
     "metadata": {},
     "output_type": "execute_result"
    },
    {
     "data": {
      "image/png": "[encoded data removed]",
      "text/plain": [
       "<Figure size 432x288 with 1 Axes>"
      ]
     },
     "metadata": {
      "needs_background": "light"
     },
     "output_type": "display_data"
    }
   ],
   "source": [
    "plt.boxplot([rmse_sgd_l,rmse_moment_l,rmse_nag_l])\n",
    "plt.xticks([1, 2,3],  ['SGD', 'Momentum','NAG'])\n",
    "plt.ylabel('MSE')"
   ]
  },
  {
   "cell_type": "code",
   "execution_count": null,
   "metadata": {},
   "outputs": [],
   "source": []
  },
  {
   "cell_type": "code",
   "execution_count": null,
   "metadata": {},
   "outputs": [],
   "source": []
  },
  {
   "cell_type": "code",
   "execution_count": null,
   "metadata": {},
   "outputs": [],
   "source": []
  }
 ],
 "metadata": {
  "kernelspec": {
   "display_name": "Python 3",
   "language": "python",
   "name": "python3"
  },
  "language_info": {
   "codemirror_mode": {
    "name": "ipython",
    "version": 3
   },
   "file_extension": ".py",
   "mimetype": "text/x-python",
   "name": "python",
   "nbconvert_exporter": "python",
   "pygments_lexer": "ipython3",
   "version": "3.8.5"
  }
 },
 "nbformat": 4,
 "nbformat_minor": 5
}

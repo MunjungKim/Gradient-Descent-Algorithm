{
 "cells": [
  {
   "cell_type": "markdown",
   "metadata": {},
   "source": [
    "# Data "
   ]
  },
  {
   "cell_type": "code",
   "execution_count": 74,
   "metadata": {},
   "outputs": [],
   "source": [
    "import numpy as np\n",
    "import matplotlib.pyplot as plt\n",
    "import pandas as pd\n",
    "import window_make\n",
    "import Gradient\n",
    "from sklearn.preprocessing import PolynomialFeatures\n",
    "from sklearn.preprocessing import StandardScaler\n",
    "from sklearn.model_selection import train_test_split\n",
    "from sklearn.preprocessing import MinMaxScaler"
   ]
  },
  {
   "cell_type": "code",
   "execution_count": 75,
   "metadata": {
    "scrolled": true
   },
   "outputs": [
    {
     "data": {
      "text/html": [
       "<div>\n",
       "<style scoped>\n",
       "    .dataframe tbody tr th:only-of-type {\n",
       "        vertical-align: middle;\n",
       "    }\n",
       "\n",
       "    .dataframe tbody tr th {\n",
       "        vertical-align: top;\n",
       "    }\n",
       "\n",
       "    .dataframe thead th {\n",
       "        text-align: right;\n",
       "    }\n",
       "</style>\n",
       "<table border=\"1\" class=\"dataframe\">\n",
       "  <thead>\n",
       "    <tr style=\"text-align: right;\">\n",
       "      <th></th>\n",
       "      <th>Year</th>\n",
       "      <th>Month</th>\n",
       "      <th>Decimal Date</th>\n",
       "      <th>Carbon Dioxide (ppm)</th>\n",
       "      <th>Seasonally Adjusted CO2 (ppm)</th>\n",
       "      <th>Carbon Dioxide Fit (ppm)</th>\n",
       "      <th>Seasonally Adjusted CO2 Fit (ppm)</th>\n",
       "    </tr>\n",
       "  </thead>\n",
       "  <tbody>\n",
       "    <tr>\n",
       "      <th>0</th>\n",
       "      <td>1958</td>\n",
       "      <td>1</td>\n",
       "      <td>1958.0411</td>\n",
       "      <td>NaN</td>\n",
       "      <td>NaN</td>\n",
       "      <td>NaN</td>\n",
       "      <td>NaN</td>\n",
       "    </tr>\n",
       "    <tr>\n",
       "      <th>1</th>\n",
       "      <td>1958</td>\n",
       "      <td>2</td>\n",
       "      <td>1958.1260</td>\n",
       "      <td>NaN</td>\n",
       "      <td>NaN</td>\n",
       "      <td>NaN</td>\n",
       "      <td>NaN</td>\n",
       "    </tr>\n",
       "    <tr>\n",
       "      <th>2</th>\n",
       "      <td>1958</td>\n",
       "      <td>3</td>\n",
       "      <td>1958.2027</td>\n",
       "      <td>315.69</td>\n",
       "      <td>314.42</td>\n",
       "      <td>316.18</td>\n",
       "      <td>314.89</td>\n",
       "    </tr>\n",
       "    <tr>\n",
       "      <th>3</th>\n",
       "      <td>1958</td>\n",
       "      <td>4</td>\n",
       "      <td>1958.2877</td>\n",
       "      <td>317.45</td>\n",
       "      <td>315.15</td>\n",
       "      <td>317.30</td>\n",
       "      <td>314.98</td>\n",
       "    </tr>\n",
       "    <tr>\n",
       "      <th>4</th>\n",
       "      <td>1958</td>\n",
       "      <td>5</td>\n",
       "      <td>1958.3699</td>\n",
       "      <td>317.50</td>\n",
       "      <td>314.73</td>\n",
       "      <td>317.83</td>\n",
       "      <td>315.06</td>\n",
       "    </tr>\n",
       "  </tbody>\n",
       "</table>\n",
       "</div>"
      ],
      "text/plain": [
       "   Year  Month  Decimal Date  Carbon Dioxide (ppm)  \\\n",
       "0  1958      1     1958.0411                   NaN   \n",
       "1  1958      2     1958.1260                   NaN   \n",
       "2  1958      3     1958.2027                315.69   \n",
       "3  1958      4     1958.2877                317.45   \n",
       "4  1958      5     1958.3699                317.50   \n",
       "\n",
       "   Seasonally Adjusted CO2 (ppm)  Carbon Dioxide Fit (ppm)  \\\n",
       "0                            NaN                       NaN   \n",
       "1                            NaN                       NaN   \n",
       "2                         314.42                    316.18   \n",
       "3                         315.15                    317.30   \n",
       "4                         314.73                    317.83   \n",
       "\n",
       "   Seasonally Adjusted CO2 Fit (ppm)  \n",
       "0                                NaN  \n",
       "1                                NaN  \n",
       "2                             314.89  \n",
       "3                             314.98  \n",
       "4                             315.06  "
      ]
     },
     "execution_count": 75,
     "metadata": {},
     "output_type": "execute_result"
    }
   ],
   "source": [
    "data = pd.read_csv('archive.csv') # co2 data\n",
    "\n",
    "data.head()"
   ]
  },
  {
   "cell_type": "code",
   "execution_count": 76,
   "metadata": {},
   "outputs": [],
   "source": [
    "data = data.to_numpy()\n",
    "\n",
    "co2 = data[:,3]"
   ]
  },
  {
   "cell_type": "code",
   "execution_count": 77,
   "metadata": {},
   "outputs": [
    {
     "data": {
      "text/plain": [
       "Text(0.5, 0, 'time series')"
      ]
     },
     "execution_count": 77,
     "metadata": {},
     "output_type": "execute_result"
    },
    {
     "data": {
      "image/png": "[encoded data removed]",
      "text/plain": [
       "<Figure size 432x288 with 1 Axes>"
      ]
     },
     "metadata": {
      "needs_background": "light"
     },
     "output_type": "display_data"
    }
   ],
   "source": [
    "plt.plot(co2)\n",
    "plt.ylabel('co2(ppm)')\n",
    "plt.xlabel('time series')"
   ]
  },
  {
   "cell_type": "code",
   "execution_count": 78,
   "metadata": {},
   "outputs": [],
   "source": [
    "X_i,Y_i = window_make.dowlist(co2,1)"
   ]
  },
  {
   "cell_type": "code",
   "execution_count": 79,
   "metadata": {},
   "outputs": [
    {
     "name": "stdout",
     "output_type": "stream",
     "text": [
      "[[0.84392015]\n",
      " [0.06469521]\n",
      " [0.0240205 ]\n",
      " [0.49236682]\n",
      " [0.44934344]]\n",
      "[[1.00000000e+00 8.43920145e-01 7.12201211e-01 6.01040950e-01\n",
      "  5.07230566e-01 4.28062093e-01]\n",
      " [1.00000000e+00 6.46952066e-02 4.18546975e-03 2.70779830e-04\n",
      "  1.75181571e-05 1.13334079e-06]\n",
      " [1.00000000e+00 2.40204975e-02 5.76984300e-04 1.38594499e-05\n",
      "  3.32910882e-07 7.99668501e-09]\n",
      " [1.00000000e+00 4.92366820e-01 2.42425085e-01 1.19362068e-01\n",
      "  5.87699219e-02 2.89363595e-02]\n",
      " [1.00000000e+00 4.49343440e-01 2.01909527e-01 9.07267213e-02\n",
      "  4.07674570e-02 1.83185894e-02]]\n"
     ]
    }
   ],
   "source": [
    "X_train, X_test, Y_train, Y_test = train_test_split(X_i, Y_i, test_size=0.2, random_state=1)\n",
    "\n",
    "\n",
    "scaler = MinMaxScaler()\n",
    "scaler.fit(X_train)\n",
    "x_scale = scaler.transform(X_train) # scaling train data\n",
    "x_test = scaler.transform(X_test) # scaling test data using train data mean and std \n",
    "\n",
    "\n",
    "\n",
    "\n",
    "print(x_scale[:5])\n",
    "\n",
    "poly = PolynomialFeatures(5)\n",
    "x_train = poly.fit_transform(x_scale)\n",
    "x_test = poly.fit_transform(x_test)\n",
    "print(x_train[:5])"
   ]
  },
  {
   "cell_type": "code",
   "execution_count": 80,
   "metadata": {},
   "outputs": [
    {
     "name": "stdout",
     "output_type": "stream",
     "text": [
      "(559, 6)\n",
      "(140, 6)\n",
      "(559, 1)\n",
      "(140, 1)\n"
     ]
    }
   ],
   "source": [
    "print(x_train.shape)\n",
    "print(x_test.shape)\n",
    "print(Y_train.shape)\n",
    "print(Y_test.shape)"
   ]
  },
  {
   "cell_type": "markdown",
   "metadata": {},
   "source": [
    "# Momentum method"
   ]
  },
  {
   "cell_type": "code",
   "execution_count": 81,
   "metadata": {},
   "outputs": [],
   "source": [
    "from sklearn.metrics import mean_squared_error\n",
    "\n",
    "\n",
    "\n"
   ]
  },
  {
   "cell_type": "code",
   "execution_count": 82,
   "metadata": {},
   "outputs": [],
   "source": [
    "loss_history_momentum,w = Gradient.momentum_gradient(x_train,Y_train,lr=0.0001, epoch=5000, batch_size=128,gamma=0.9)"
   ]
  },
  {
   "cell_type": "code",
   "execution_count": 83,
   "metadata": {},
   "outputs": [
    {
     "data": {
      "text/plain": [
       "[<matplotlib.lines.Line2D at 0x7ff3c86adeb0>]"
      ]
     },
     "execution_count": 83,
     "metadata": {},
     "output_type": "execute_result"
    },
    {
     "data": {
      "image/png": "[encoded data removed]",
      "text/plain": [
       "<Figure size 432x288 with 1 Axes>"
      ]
     },
     "metadata": {
      "needs_background": "light"
     },
     "output_type": "display_data"
    }
   ],
   "source": [
    "plt.plot(range(len(loss_history_momentum))[:600],loss_history_momentum[:600])"
   ]
  },
  {
   "cell_type": "code",
   "execution_count": 84,
   "metadata": {},
   "outputs": [
    {
     "data": {
      "text/plain": [
       "('rmse is ',\n",
       " array([15.2026034 , 15.39132807, 14.73468837, 14.89795876, 13.84046281,\n",
       "        14.08994308, 13.58942942, 13.51833697, 13.73820797]))"
      ]
     },
     "execution_count": 84,
     "metadata": {},
     "output_type": "execute_result"
    }
   ],
   "source": [
    "\"rmse is \",np.sqrt(loss_history_momentum[-10:-1])"
   ]
  },
  {
   "cell_type": "markdown",
   "metadata": {},
   "source": [
    "# Nestrov Accelerated Gradient"
   ]
  },
  {
   "cell_type": "markdown",
   "metadata": {},
   "source": [
    "## $\\gamma = 0.9$"
   ]
  },
  {
   "cell_type": "code",
   "execution_count": 85,
   "metadata": {},
   "outputs": [],
   "source": [
    "from sklearn.metrics import mean_squared_error"
   ]
  },
  {
   "cell_type": "code",
   "execution_count": 89,
   "metadata": {},
   "outputs": [],
   "source": [
    "loss_history_nag,w = Gradient.nestrov_gradient(x_train,Y_train,lr=0.0001, epoch=5000, batch_size=128,gamma=0.9) \n"
   ]
  },
  {
   "cell_type": "code",
   "execution_count": 90,
   "metadata": {},
   "outputs": [
    {
     "data": {
      "text/plain": [
       "[<matplotlib.lines.Line2D at 0x7ff3e8f87d60>]"
      ]
     },
     "execution_count": 90,
     "metadata": {},
     "output_type": "execute_result"
    },
    {
     "data": {
      "image/png": "[encoded data removed]",
      "text/plain": [
       "<Figure size 432x288 with 1 Axes>"
      ]
     },
     "metadata": {
      "needs_background": "light"
     },
     "output_type": "display_data"
    }
   ],
   "source": [
    "plt.plot(range(len(loss_history_nag[:100])),loss_history_nag[:100])"
   ]
  },
  {
   "cell_type": "code",
   "execution_count": 91,
   "metadata": {},
   "outputs": [
    {
     "data": {
      "text/plain": [
       "[<matplotlib.lines.Line2D at 0x7ff3b8a09430>]"
      ]
     },
     "execution_count": 91,
     "metadata": {},
     "output_type": "execute_result"
    },
    {
     "data": {
      "image/png": "[encoded data removed]",
      "text/plain": [
       "<Figure size 432x288 with 1 Axes>"
      ]
     },
     "metadata": {
      "needs_background": "light"
     },
     "output_type": "display_data"
    }
   ],
   "source": [
    "plt.plot(range(len(loss_history_nag)),loss_history_nag)"
   ]
  },
  {
   "cell_type": "code",
   "execution_count": 92,
   "metadata": {},
   "outputs": [
    {
     "name": "stdout",
     "output_type": "stream",
     "text": [
      "rmse is  [15.18848665 15.37676377 14.73502491 14.88530708 13.82962464 14.0759787\n",
      " 13.59296472 13.51289388 13.72487352]\n"
     ]
    }
   ],
   "source": [
    "print(\"rmse is \",np.sqrt(loss_history_nag[-10:-1]))"
   ]
  },
  {
   "cell_type": "markdown",
   "metadata": {},
   "source": [
    "# Parameter Change "
   ]
  },
  {
   "cell_type": "markdown",
   "metadata": {},
   "source": [
    "## Momentum Method"
   ]
  },
  {
   "cell_type": "code",
   "execution_count": 60,
   "metadata": {
    "collapsed": true,
    "jupyter": {
     "outputs_hidden": true
    }
   },
   "outputs": [
    {
     "name": "stdout",
     "output_type": "stream",
     "text": [
      "learning_rate =  1e-05\n",
      "batch_size =  32\n",
      "learning_rate =  1e-05\n",
      "batch_size =  32\n",
      "learning_rate =  1e-05\n",
      "batch_size =  32\n",
      "learning_rate =  1e-05\n",
      "batch_size =  32\n",
      "learning_rate =  1e-05\n",
      "batch_size =  32\n",
      "learning_rate =  1e-05\n",
      "batch_size =  32\n",
      "learning_rate =  1e-05\n",
      "batch_size =  32\n",
      "learning_rate =  1e-05\n",
      "batch_size =  32\n",
      "learning_rate =  1e-05\n",
      "batch_size =  64\n",
      "learning_rate =  1e-05\n",
      "batch_size =  64\n",
      "learning_rate =  1e-05\n",
      "batch_size =  64\n",
      "learning_rate =  1e-05\n",
      "batch_size =  64\n",
      "learning_rate =  1e-05\n",
      "batch_size =  64\n",
      "learning_rate =  1e-05\n",
      "batch_size =  64\n",
      "learning_rate =  1e-05\n",
      "batch_size =  64\n",
      "learning_rate =  1e-05\n",
      "batch_size =  64\n",
      "learning_rate =  1e-05\n",
      "batch_size =  128\n",
      "learning_rate =  1e-05\n",
      "batch_size =  128\n",
      "learning_rate =  1e-05\n",
      "batch_size =  128\n",
      "learning_rate =  1e-05\n",
      "batch_size =  128\n",
      "learning_rate =  1e-05\n",
      "batch_size =  128\n",
      "learning_rate =  1e-05\n",
      "batch_size =  128\n",
      "learning_rate =  1e-05\n",
      "batch_size =  128\n",
      "learning_rate =  1e-05\n",
      "batch_size =  128\n",
      "learning_rate =  1e-05\n",
      "batch_size =  256\n",
      "learning_rate =  1e-05\n",
      "batch_size =  256\n",
      "learning_rate =  1e-05\n",
      "batch_size =  256\n",
      "learning_rate =  1e-05\n",
      "batch_size =  256\n",
      "learning_rate =  1e-05\n",
      "batch_size =  256\n",
      "learning_rate =  1e-05\n",
      "batch_size =  256\n",
      "learning_rate =  1e-05\n",
      "batch_size =  256\n",
      "learning_rate =  1e-05\n",
      "batch_size =  256\n",
      "learning_rate =  0.0001\n",
      "batch_size =  32\n",
      "learning_rate =  0.0001\n",
      "batch_size =  32\n",
      "learning_rate =  0.0001\n",
      "batch_size =  32\n",
      "learning_rate =  0.0001\n",
      "batch_size =  32\n",
      "learning_rate =  0.0001\n",
      "batch_size =  32\n",
      "learning_rate =  0.0001\n",
      "batch_size =  32\n",
      "learning_rate =  0.0001\n",
      "batch_size =  32\n",
      "learning_rate =  0.0001\n",
      "batch_size =  32\n",
      "learning_rate =  0.0001\n",
      "batch_size =  64\n",
      "learning_rate =  0.0001\n",
      "batch_size =  64\n",
      "learning_rate =  0.0001\n",
      "batch_size =  64\n",
      "learning_rate =  0.0001\n",
      "batch_size =  64\n",
      "learning_rate =  0.0001\n",
      "batch_size =  64\n",
      "learning_rate =  0.0001\n",
      "batch_size =  64\n",
      "learning_rate =  0.0001\n",
      "batch_size =  64\n",
      "learning_rate =  0.0001\n",
      "batch_size =  64\n",
      "learning_rate =  0.0001\n",
      "batch_size =  128\n",
      "learning_rate =  0.0001\n",
      "batch_size =  128\n",
      "learning_rate =  0.0001\n",
      "batch_size =  128\n",
      "learning_rate =  0.0001\n",
      "batch_size =  128\n",
      "learning_rate =  0.0001\n",
      "batch_size =  128\n",
      "learning_rate =  0.0001\n",
      "batch_size =  128\n",
      "learning_rate =  0.0001\n",
      "batch_size =  128\n",
      "learning_rate =  0.0001\n",
      "batch_size =  128\n",
      "learning_rate =  0.0001\n",
      "batch_size =  256\n",
      "learning_rate =  0.0001\n",
      "batch_size =  256\n",
      "learning_rate =  0.0001\n",
      "batch_size =  256\n",
      "learning_rate =  0.0001\n",
      "batch_size =  256\n",
      "learning_rate =  0.0001\n",
      "batch_size =  256\n",
      "learning_rate =  0.0001\n",
      "batch_size =  256\n",
      "learning_rate =  0.0001\n",
      "batch_size =  256\n",
      "learning_rate =  0.0001\n",
      "batch_size =  256\n",
      "learning_rate =  0.001\n",
      "batch_size =  32\n",
      "learning_rate =  0.001\n",
      "batch_size =  32\n",
      "learning_rate =  0.001\n",
      "batch_size =  32\n",
      "learning_rate =  0.001\n",
      "batch_size =  32\n",
      "learning_rate =  0.001\n",
      "batch_size =  32\n",
      "learning_rate =  0.001\n",
      "batch_size =  32\n",
      "learning_rate =  0.001\n",
      "batch_size =  32\n",
      "learning_rate =  0.001\n",
      "batch_size =  32\n",
      "learning_rate =  0.001\n",
      "batch_size =  64\n",
      "learning_rate =  0.001\n",
      "batch_size =  64\n",
      "learning_rate =  0.001\n",
      "batch_size =  64\n",
      "learning_rate =  0.001\n",
      "batch_size =  64\n",
      "learning_rate =  0.001\n",
      "batch_size =  64\n",
      "learning_rate =  0.001\n",
      "batch_size =  64\n",
      "learning_rate =  0.001\n",
      "batch_size =  64\n",
      "learning_rate =  0.001\n",
      "batch_size =  64\n",
      "learning_rate =  0.001\n",
      "batch_size =  128\n",
      "learning_rate =  0.001\n",
      "batch_size =  128\n",
      "learning_rate =  0.001\n",
      "batch_size =  128\n",
      "learning_rate =  0.001\n",
      "batch_size =  128\n",
      "learning_rate =  0.001\n",
      "batch_size =  128\n",
      "learning_rate =  0.001\n",
      "batch_size =  128\n",
      "learning_rate =  0.001\n",
      "batch_size =  128\n",
      "learning_rate =  0.001\n",
      "batch_size =  128\n",
      "learning_rate =  0.001\n",
      "batch_size =  256\n",
      "learning_rate =  0.001\n",
      "batch_size =  256\n",
      "learning_rate =  0.001\n",
      "batch_size =  256\n",
      "learning_rate =  0.001\n",
      "batch_size =  256\n",
      "learning_rate =  0.001\n",
      "batch_size =  256\n",
      "learning_rate =  0.001\n",
      "batch_size =  256\n",
      "learning_rate =  0.001\n",
      "batch_size =  256\n",
      "learning_rate =  0.001\n",
      "batch_size =  256\n"
     ]
    }
   ],
   "source": [
    "import time\n",
    "lr_set = [0.00001, 0.0001, 0.001]\n",
    "batch_set = [32, 64, 128, 256]\n",
    "epoch_size = 1500\n",
    "gamma_list = [0.1,0.2,0.3,0.4,0.5,0.6,0.7,0.8]\n",
    "rmse = np.zeros((len(lr_set), len(batch_set),len(gamma_list)))\n",
    "time_record = np.zeros((len(lr_set),len(batch_set),len(gamma_list)))\n",
    "\n",
    "for i in range(len(lr_set)):\n",
    "    \n",
    "    hyper = lr_set[i]\n",
    "    \n",
    "    for j in range(len(batch_set)):\n",
    "        \n",
    "        for k in range(len(gamma_list)):\n",
    "            batch = batch_set[j]\n",
    "        \n",
    "            start = time.time()\n",
    "            loss, w_conv = Gradient.momentum_gradient(x_train, Y_train, lr=hyper, epoch=epoch_size, batch_size=batch,gamma=gamma_list[k])\n",
    "            time_cal = time.time() - start\n",
    "        \n",
    "            time_record[i,j,k] = time_cal\n",
    "            Y_pred = np.matmul(x_test,w_conv.reshape((6,-1))) \n",
    "            rmse[i,j,k] = mean_squared_error(Y_test, Y_pred)\n",
    "            print(\"learning_rate = \", hyper)\n",
    "            print(\"batch_size = \", batch)\n",
    "        \n",
    "        "
   ]
  },
  {
   "cell_type": "code",
   "execution_count": 61,
   "metadata": {},
   "outputs": [
    {
     "data": {
      "text/plain": [
       "array([[[9.38613226e+03, 7.17933515e+03, 5.25176462e+03, 3.63703120e+03,\n",
       "         2.48349392e+03, 1.66214515e+03, 1.12582960e+03, 6.00981301e+02],\n",
       "        [1.98894023e+03, 1.63372603e+03, 1.35658483e+03, 1.10391537e+03,\n",
       "         8.51422939e+02, 5.84332665e+02, 3.06635008e+02, 8.45953767e+01],\n",
       "        [7.18753945e+02, 5.72761496e+02, 4.33525353e+02, 3.01863139e+02,\n",
       "         1.79866778e+02, 8.20001616e+01, 2.33983798e+01, 3.63236033e+00],\n",
       "        [1.24650344e+02, 8.02111301e+01, 4.56988843e+01, 2.27077173e+01,\n",
       "         9.30803540e+00, 3.52075661e+00, 2.30704877e+00, 2.22495570e+00]],\n",
       "\n",
       "       [[5.93346997e+01, 3.57906400e+01, 1.87834581e+01, 8.76647168e+00,\n",
       "         4.02694175e+00, 2.56027445e+00, 2.24923043e+00, 2.11560290e+00],\n",
       "        [2.81868219e+00, 2.47203159e+00, 2.32976347e+00, 2.30371871e+00,\n",
       "         2.20433026e+00, 2.17767804e+00, 2.09158335e+00, 2.01565303e+00],\n",
       "        [2.21695730e+00, 2.24005962e+00, 2.18493382e+00, 2.12877334e+00,\n",
       "         2.07038072e+00, 2.02061534e+00, 1.94106630e+00, 1.89449611e+00],\n",
       "        [2.03489531e+00, 2.00068780e+00, 1.95757424e+00, 1.94257734e+00,\n",
       "         1.90578250e+00, 1.88380547e+00, 1.84231759e+00, 1.79169034e+00]],\n",
       "\n",
       "       [[1.97644445e+00, 1.95047674e+00, 1.94821633e+00, 1.92945281e+00,\n",
       "         1.92484579e+00, 1.89127524e+00, 1.86986529e+00, 1.80765073e+00],\n",
       "        [1.89665121e+00, 1.86118727e+00, 1.83102206e+00, 1.82135612e+00,\n",
       "         1.79803614e+00, 1.77119684e+00, 1.72258568e+00, 1.66236183e+00],\n",
       "        [1.76841844e+00, 1.75357554e+00, 1.75279085e+00, 1.71879059e+00,\n",
       "         1.68520752e+00, 1.65532340e+00, 1.61850872e+00, 1.56702466e+00],\n",
       "        [1.67981176e+00, 1.65336621e+00, 1.63789160e+00, 1.61640787e+00,\n",
       "         1.58918990e+00, 1.56698883e+00, 1.54560713e+00, 1.52987723e+00]]])"
      ]
     },
     "execution_count": 61,
     "metadata": {},
     "output_type": "execute_result"
    }
   ],
   "source": [
    "rmse"
   ]
  },
  {
   "cell_type": "code",
   "execution_count": 62,
   "metadata": {},
   "outputs": [
    {
     "data": {
      "text/plain": [
       "1.5298772262049771"
      ]
     },
     "execution_count": 62,
     "metadata": {},
     "output_type": "execute_result"
    }
   ],
   "source": [
    "np.min(rmse)"
   ]
  },
  {
   "cell_type": "code",
   "execution_count": 71,
   "metadata": {},
   "outputs": [
    {
     "data": {
      "text/plain": [
       "2"
      ]
     },
     "execution_count": 71,
     "metadata": {},
     "output_type": "execute_result"
    }
   ],
   "source": [
    "Best_Parameter[0][0]"
   ]
  },
  {
   "cell_type": "code",
   "execution_count": 105,
   "metadata": {},
   "outputs": [
    {
     "name": "stdout",
     "output_type": "stream",
     "text": [
      "Learning Rate 0.001\n",
      "batch size 256\n",
      "gamma 0.8\n",
      "Minimum rmse is 1.5298772262049771\n"
     ]
    }
   ],
   "source": [
    "Best_Parameter = np.where(rmse==np.min(rmse))\n",
    "print(\"Learning Rate\",lr_set[Best_Parameter[0][0]])\n",
    "print(\"batch size\",batch_set[Best_Parameter[1][0]])\n",
    "print(\"gamma\",gamma_list[Best_Parameter[2][0]])\n",
    "print(\"Minimum rmse is\",np.min(rmse))"
   ]
  },
  {
   "cell_type": "markdown",
   "metadata": {},
   "source": [
    "## Nestrov Accelerated Gradient"
   ]
  },
  {
   "cell_type": "code",
   "execution_count": 99,
   "metadata": {
    "collapsed": true,
    "jupyter": {
     "outputs_hidden": true
    }
   },
   "outputs": [
    {
     "name": "stdout",
     "output_type": "stream",
     "text": [
      "learning_rate =  1e-05\n",
      "batch_size =  32\n",
      "learning_rate =  1e-05\n",
      "batch_size =  32\n",
      "learning_rate =  1e-05\n",
      "batch_size =  32\n",
      "learning_rate =  1e-05\n",
      "batch_size =  32\n",
      "learning_rate =  1e-05\n",
      "batch_size =  32\n",
      "learning_rate =  1e-05\n",
      "batch_size =  32\n",
      "learning_rate =  1e-05\n",
      "batch_size =  32\n",
      "learning_rate =  1e-05\n",
      "batch_size =  32\n",
      "learning_rate =  1e-05\n",
      "batch_size =  64\n",
      "learning_rate =  1e-05\n",
      "batch_size =  64\n",
      "learning_rate =  1e-05\n",
      "batch_size =  64\n",
      "learning_rate =  1e-05\n",
      "batch_size =  64\n",
      "learning_rate =  1e-05\n",
      "batch_size =  64\n",
      "learning_rate =  1e-05\n",
      "batch_size =  64\n",
      "learning_rate =  1e-05\n",
      "batch_size =  64\n",
      "learning_rate =  1e-05\n",
      "batch_size =  64\n",
      "learning_rate =  1e-05\n",
      "batch_size =  128\n",
      "learning_rate =  1e-05\n",
      "batch_size =  128\n",
      "learning_rate =  1e-05\n",
      "batch_size =  128\n",
      "learning_rate =  1e-05\n",
      "batch_size =  128\n",
      "learning_rate =  1e-05\n",
      "batch_size =  128\n",
      "learning_rate =  1e-05\n",
      "batch_size =  128\n",
      "learning_rate =  1e-05\n",
      "batch_size =  128\n",
      "learning_rate =  1e-05\n",
      "batch_size =  128\n",
      "learning_rate =  1e-05\n",
      "batch_size =  256\n",
      "learning_rate =  1e-05\n",
      "batch_size =  256\n",
      "learning_rate =  1e-05\n",
      "batch_size =  256\n",
      "learning_rate =  1e-05\n",
      "batch_size =  256\n",
      "learning_rate =  1e-05\n",
      "batch_size =  256\n",
      "learning_rate =  1e-05\n",
      "batch_size =  256\n",
      "learning_rate =  1e-05\n",
      "batch_size =  256\n",
      "learning_rate =  1e-05\n",
      "batch_size =  256\n",
      "learning_rate =  0.0001\n",
      "batch_size =  32\n",
      "learning_rate =  0.0001\n",
      "batch_size =  32\n",
      "learning_rate =  0.0001\n",
      "batch_size =  32\n",
      "learning_rate =  0.0001\n",
      "batch_size =  32\n",
      "learning_rate =  0.0001\n",
      "batch_size =  32\n",
      "learning_rate =  0.0001\n",
      "batch_size =  32\n",
      "learning_rate =  0.0001\n",
      "batch_size =  32\n",
      "learning_rate =  0.0001\n",
      "batch_size =  32\n",
      "learning_rate =  0.0001\n",
      "batch_size =  64\n",
      "learning_rate =  0.0001\n",
      "batch_size =  64\n",
      "learning_rate =  0.0001\n",
      "batch_size =  64\n",
      "learning_rate =  0.0001\n",
      "batch_size =  64\n",
      "learning_rate =  0.0001\n",
      "batch_size =  64\n",
      "learning_rate =  0.0001\n",
      "batch_size =  64\n",
      "learning_rate =  0.0001\n",
      "batch_size =  64\n",
      "learning_rate =  0.0001\n",
      "batch_size =  64\n",
      "learning_rate =  0.0001\n",
      "batch_size =  128\n",
      "learning_rate =  0.0001\n",
      "batch_size =  128\n",
      "learning_rate =  0.0001\n",
      "batch_size =  128\n",
      "learning_rate =  0.0001\n",
      "batch_size =  128\n",
      "learning_rate =  0.0001\n",
      "batch_size =  128\n",
      "learning_rate =  0.0001\n",
      "batch_size =  128\n",
      "learning_rate =  0.0001\n",
      "batch_size =  128\n",
      "learning_rate =  0.0001\n",
      "batch_size =  128\n",
      "learning_rate =  0.0001\n",
      "batch_size =  256\n",
      "learning_rate =  0.0001\n",
      "batch_size =  256\n",
      "learning_rate =  0.0001\n",
      "batch_size =  256\n",
      "learning_rate =  0.0001\n",
      "batch_size =  256\n",
      "learning_rate =  0.0001\n",
      "batch_size =  256\n",
      "learning_rate =  0.0001\n",
      "batch_size =  256\n",
      "learning_rate =  0.0001\n",
      "batch_size =  256\n",
      "learning_rate =  0.0001\n",
      "batch_size =  256\n",
      "learning_rate =  0.001\n",
      "batch_size =  32\n",
      "learning_rate =  0.001\n",
      "batch_size =  32\n",
      "learning_rate =  0.001\n",
      "batch_size =  32\n",
      "learning_rate =  0.001\n",
      "batch_size =  32\n",
      "learning_rate =  0.001\n",
      "batch_size =  32\n",
      "learning_rate =  0.001\n",
      "batch_size =  32\n",
      "learning_rate =  0.001\n",
      "batch_size =  32\n",
      "learning_rate =  0.001\n",
      "batch_size =  32\n",
      "learning_rate =  0.001\n",
      "batch_size =  64\n",
      "learning_rate =  0.001\n",
      "batch_size =  64\n",
      "learning_rate =  0.001\n",
      "batch_size =  64\n",
      "learning_rate =  0.001\n",
      "batch_size =  64\n",
      "learning_rate =  0.001\n",
      "batch_size =  64\n",
      "learning_rate =  0.001\n",
      "batch_size =  64\n",
      "learning_rate =  0.001\n",
      "batch_size =  64\n",
      "learning_rate =  0.001\n",
      "batch_size =  64\n",
      "learning_rate =  0.001\n",
      "batch_size =  128\n",
      "learning_rate =  0.001\n",
      "batch_size =  128\n",
      "learning_rate =  0.001\n",
      "batch_size =  128\n",
      "learning_rate =  0.001\n",
      "batch_size =  128\n",
      "learning_rate =  0.001\n",
      "batch_size =  128\n",
      "learning_rate =  0.001\n",
      "batch_size =  128\n",
      "learning_rate =  0.001\n",
      "batch_size =  128\n",
      "learning_rate =  0.001\n",
      "batch_size =  128\n",
      "learning_rate =  0.001\n",
      "batch_size =  256\n",
      "learning_rate =  0.001\n",
      "batch_size =  256\n",
      "learning_rate =  0.001\n",
      "batch_size =  256\n",
      "learning_rate =  0.001\n",
      "batch_size =  256\n",
      "learning_rate =  0.001\n",
      "batch_size =  256\n",
      "learning_rate =  0.001\n",
      "batch_size =  256\n",
      "learning_rate =  0.001\n",
      "batch_size =  256\n",
      "learning_rate =  0.001\n",
      "batch_size =  256\n"
     ]
    }
   ],
   "source": [
    "import time\n",
    "lr_set = [0.00001, 0.0001, 0.001]\n",
    "batch_set = [32, 64, 128, 256]\n",
    "epoch_size = 1500\n",
    "gamma_list = [0.1,0.2,0.3,0.4,0.5,0.6,0.7,0.8]\n",
    "rmse_nag = np.zeros((len(lr_set), len(batch_set),len(gamma_list)))\n",
    "time_record_nag = np.zeros((len(lr_set),len(batch_set),len(gamma_list)))\n",
    "\n",
    "for i in range(len(lr_set)):\n",
    "    \n",
    "    hyper = lr_set[i]\n",
    "    \n",
    "    for j in range(len(batch_set)):\n",
    "        \n",
    "        for k in range(len(gamma_list)):\n",
    "            batch = batch_set[j]\n",
    "        \n",
    "            start = time.time()\n",
    "            loss, w_conv = Gradient.nestrov_gradient(x_train, Y_train, lr=hyper, epoch=epoch_size, batch_size=batch,gamma=gamma_list[k])\n",
    "            time_cal = time.time() - start\n",
    "        \n",
    "            time_record_nag[i,j,k] = time_cal\n",
    "            Y_pred = np.matmul(x_test,w_conv.reshape((6,-1))) \n",
    "            rmse_nag[i,j,k] = mean_squared_error(Y_test, Y_pred)\n",
    "            print(\"learning_rate = \", hyper)\n",
    "            print(\"batch_size = \", batch)\n",
    "        \n",
    "        "
   ]
  },
  {
   "cell_type": "code",
   "execution_count": 102,
   "metadata": {
    "collapsed": true,
    "jupyter": {
     "outputs_hidden": true
    }
   },
   "outputs": [
    {
     "data": {
      "text/plain": [
       "array([[[9.43454015e+03, 7.19621534e+03, 5.23806784e+03, 3.65339452e+03,\n",
       "         2.46892796e+03, 1.67138821e+03, 1.12918797e+03, 6.01205708e+02],\n",
       "        [1.99302982e+03, 1.65690926e+03, 1.36458522e+03, 1.10207909e+03,\n",
       "         8.48432097e+02, 5.78597481e+02, 3.08495322e+02, 8.41064673e+01],\n",
       "        [7.12298189e+02, 5.69723727e+02, 4.39540147e+02, 2.99691921e+02,\n",
       "         1.79265671e+02, 8.22099835e+01, 2.36447373e+01, 3.68898800e+00],\n",
       "        [1.23473311e+02, 7.98051620e+01, 4.61827775e+01, 2.26734936e+01,\n",
       "         9.16725223e+00, 3.54271983e+00, 2.35884054e+00, 2.25916761e+00]],\n",
       "\n",
       "       [[5.99718326e+01, 3.56356118e+01, 1.90891465e+01, 8.86331569e+00,\n",
       "         3.97981121e+00, 2.43834826e+00, 2.23740809e+00, 2.11877061e+00],\n",
       "        [2.91758129e+00, 2.41693187e+00, 2.41602271e+00, 2.31183051e+00,\n",
       "         2.25361685e+00, 2.18912417e+00, 2.04965966e+00, 1.99547642e+00],\n",
       "        [2.27100029e+00, 2.18742901e+00, 2.12628748e+00, 2.08614154e+00,\n",
       "         2.05638088e+00, 2.03551127e+00, 1.94464687e+00, 1.88138306e+00],\n",
       "        [2.04310315e+00, 1.98403330e+00, 1.96332027e+00, 1.93966294e+00,\n",
       "         1.90797269e+00, 1.88506459e+00, 1.84904902e+00, 1.78167406e+00]],\n",
       "\n",
       "       [[1.96335336e+00, 1.96113125e+00, 1.96097235e+00, 1.92873136e+00,\n",
       "         1.90559732e+00, 1.90082634e+00, 1.86495618e+00, 1.81145180e+00],\n",
       "        [1.87218321e+00, 1.86743677e+00, 1.83662208e+00, 1.82185078e+00,\n",
       "         1.79326000e+00, 1.77105601e+00, 1.72414129e+00, 1.66451594e+00],\n",
       "        [1.78523296e+00, 1.75676264e+00, 1.74619537e+00, 1.71300421e+00,\n",
       "         1.68166376e+00, 1.65461305e+00, 1.61785167e+00, 1.56648461e+00],\n",
       "        [1.68138022e+00, 1.66069014e+00, 1.63425137e+00, 1.61168898e+00,\n",
       "         1.58655258e+00, 1.56313539e+00, 1.53610744e+00, 1.51801141e+00]]])"
      ]
     },
     "execution_count": 102,
     "metadata": {},
     "output_type": "execute_result"
    }
   ],
   "source": [
    "rmse_nag"
   ]
  },
  {
   "cell_type": "code",
   "execution_count": 104,
   "metadata": {},
   "outputs": [
    {
     "name": "stdout",
     "output_type": "stream",
     "text": [
      "Learning Rate 0.001\n",
      "batch size 256\n",
      "gamma 0.8\n",
      "Minimum rmse is 1.5180114126228013\n"
     ]
    }
   ],
   "source": [
    "Best_Parameter = np.where(rmse_nag==np.min(rmse_nag))\n",
    "print(\"Learninmomentum_gradientate\",lr_set[Best_Parameter[0][0]])\n",
    "print(\"batch size\",batch_set[Best_Parameter[1][0]])\n",
    "print(\"gamma\",gamma_list[Best_Parameter[2][0]])\n",
    "print(\"Minimum rmse is\",np.min(rmse_nag))"
   ]
  },
  {
   "cell_type": "markdown",
   "metadata": {},
   "source": [
    "# Comapring Algorithms"
   ]
  },
  {
   "cell_type": "markdown",
   "metadata": {},
   "source": [
    "* lr :  0.001\n",
    "* gamma : 0.8\n",
    "* batch size : 256"
   ]
  },
  {
   "cell_type": "code",
   "execution_count": 111,
   "metadata": {},
   "outputs": [],
   "source": [
    "rmse_sgd_l = []\n",
    "for i in range(100):\n",
    "    loss, w_conv = Gradient.stochastic_gradient(x_train, Y_train, lr=0.001, epoch=1500, batch_size=256)\n",
    "    Y_pred = np.matmul(x_test,w_conv.reshape((6,-1))) \n",
    "    rmse_sgd_temp = mean_squared_error(Y_test, Y_pred)\n",
    "    rmse_sgd_l.append(rmse_sgd_temp)"
   ]
  },
  {
   "cell_type": "code",
   "execution_count": 107,
   "metadata": {},
   "outputs": [],
   "source": [
    "rmse_nag_l = []\n",
    "\n",
    "for i in range(100):\n",
    "    loss, w_conv = Gradient.nestrov_gradient(x_train, Y_train, lr=0.001, epoch=1500, batch_size=256,gamma=0.8)\n",
    "    Y_pred = np.matmul(x_test,w_conv.reshape((6,-1))) \n",
    "    rmse_nag_temp = mean_squared_error(Y_test, Y_pred)\n",
    "    rmse_nag_l.append(rmse_nag_temp)\n",
    "    \n",
    "    "
   ]
  },
  {
   "cell_type": "code",
   "execution_count": 110,
   "metadata": {},
   "outputs": [],
   "source": [
    "rmse_moment_l = []\n",
    "for i in range(100):\n",
    "    loss, w_conv = Gradient.momentum_gradient(x_train, Y_train, lr=0.001, epoch=1500, batch_size=256,gamma=0.8)\n",
    "    Y_pred = np.matmul(x_test,w_conv.reshape((6,-1))) \n",
    "    rmse_moment_temp = mean_squared_error(Y_test, Y_pred)\n",
    "    rmse_moment_l.append(rmse_moment_temp)\n",
    "    del loss\n",
    "    del w_conv\n",
    "    del rmse_moment_temp\n",
    "    "
   ]
  },
  {
   "cell_type": "code",
   "execution_count": 121,
   "metadata": {},
   "outputs": [
    {
     "data": {
      "text/plain": [
       "([<matplotlib.axis.XTick at 0x7ff3dcdece20>,\n",
       "  <matplotlib.axis.XTick at 0x7ff3dcdecdf0>,\n",
       "  <matplotlib.axis.XTick at 0x7ff3dcda1190>],\n",
       " [Text(1, 0, 'SGD'), Text(2, 0, 'Momentum'), Text(3, 0, 'NAG')])"
      ]
     },
     "execution_count": 121,
     "metadata": {},
     "output_type": "execute_result"
    },
    {
     "data": {
      "image/png": "[encoded data removed]",
      "text/plain": [
       "<Figure size 432x288 with 1 Axes>"
      ]
     },
     "metadata": {
      "needs_background": "light"
     },
     "output_type": "display_data"
    }
   ],
   "source": [
    "plt.boxplot([rmse_sgd_l,rmse_moment_l,rmse_nag_l])\n",
    "plt.xticks([1, 2,3],  ['SGD', 'Momentum','NAG'])\n"
   ]
  },
  {
   "cell_type": "code",
   "execution_count": null,
   "metadata": {},
   "outputs": [],
   "source": []
  }
 ],
 "metadata": {
  "kernelspec": {
   "display_name": "Python 3",
   "language": "python",
   "name": "python3"
  },
  "language_info": {
   "codemirror_mode": {
    "name": "ipython",
    "version": 3
   },
   "file_extension": ".py",
   "mimetype": "text/x-python",
   "name": "python",
   "nbconvert_exporter": "python",
   "pygments_lexer": "ipython3",
   "version": "3.8.5"
  }
 },
 "nbformat": 4,
 "nbformat_minor": 5
}
